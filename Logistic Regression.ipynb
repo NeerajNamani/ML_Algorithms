{
 "cells": [
  {
   "cell_type": "code",
   "execution_count": 2,
   "metadata": {},
   "outputs": [
    {
     "name": "stdout",
     "output_type": "stream",
     "text": [
      "Collecting utils\n",
      "  Downloading utils-1.0.2.tar.gz (13 kB)\n",
      "  Preparing metadata (setup.py) ... \u001b[?25ldone\n",
      "\u001b[?25hBuilding wheels for collected packages: utils\n",
      "  Building wheel for utils (setup.py) ... \u001b[?25ldone\n",
      "\u001b[?25h  Created wheel for utils: filename=utils-1.0.2-py2.py3-none-any.whl size=13904 sha256=587fda14f302070c816a32844c18f04b6aaf6180162e30328ba999d13a1b6e72\n",
      "  Stored in directory: /Users/neerajnamani/Library/Caches/pip/wheels/15/0c/b3/674aea8c5d91c642c817d4d630bd58faa316724b136844094d\n",
      "Successfully built utils\n",
      "Installing collected packages: utils\n",
      "Successfully installed utils-1.0.2\n",
      "\n",
      "\u001b[1m[\u001b[0m\u001b[34;49mnotice\u001b[0m\u001b[1;39;49m]\u001b[0m\u001b[39;49m A new release of pip is available: \u001b[0m\u001b[31;49m23.1.2\u001b[0m\u001b[39;49m -> \u001b[0m\u001b[32;49m23.3.2\u001b[0m\n",
      "\u001b[1m[\u001b[0m\u001b[34;49mnotice\u001b[0m\u001b[1;39;49m]\u001b[0m\u001b[39;49m To update, run: \u001b[0m\u001b[32;49mpip3 install --upgrade pip\u001b[0m\n",
      "Note: you may need to restart the kernel to use updated packages.\n"
     ]
    }
   ],
   "source": [
    "pip install utils"
   ]
  },
  {
   "cell_type": "code",
   "execution_count": 18,
   "metadata": {},
   "outputs": [],
   "source": [
    "import numpy as np \n",
    "from utils import *\n",
    "import matplotlib.pyplot as plt "
   ]
  },
  {
   "cell_type": "code",
   "execution_count": 9,
   "metadata": {},
   "outputs": [],
   "source": [
    "# 3 Hyper parameters in logistic Regression of ML\n",
    "# Learning Rate\n",
    "# Batch Size\n",
    "# Number of iterations\n",
    "\n",
    "def __init__(self, learning_rate = 0.001, batch_size = None, weights = None, bias = None, number_of_iterations = 10000):\n",
    "    self.learning_rate = learning_rate\n",
    "    self.batch_size = batch_size\n",
    "    self.weights = weights\n",
    "    self.bias = bias\n",
    "    self.number_of_iterations = number_of_iterations\n"
   ]
  },
  {
   "cell_type": "code",
   "execution_count": 26,
   "metadata": {},
   "outputs": [],
   "source": [
    "# Creating Sigmoid function for Activation of neural network\n",
    "\n",
    "def sigmoid(y):\n",
    "    return 1/(1+np.exp(-y))\n"
   ]
  },
  {
   "cell_type": "code",
   "execution_count": 29,
   "metadata": {},
   "outputs": [],
   "source": [
    "# Binary Cross Entropy\n",
    "\n",
    "def compute_loss(self, y_true, y_pred):\n",
    "    self.y_true = y_true\n",
    "    self.y_pred = y_pred\n",
    "    epsilon = 1e-9\n",
    "    y1 = y_true + np.log(y_pred + epsilon)\n",
    "    y2 = (1-y_true) + np.log(1-y_pred + epsilon)\n",
    "    return -np.mean(y1+y2)"
   ]
  },
  {
   "cell_type": "code",
   "execution_count": 30,
   "metadata": {},
   "outputs": [],
   "source": [
    "# Gradient Descent Algorithm\n",
    "\n",
    "def fit(self, x, y, n_samples, n_features, weights, bias):\n",
    "    self.x = x\n",
    "    self.y = y\n",
    "    self.n_samples = n_samples\n",
    "    self.n_features = n_features\n",
    "    self.weights = weights\n",
    "    self.bias = bias\n",
    "\n",
    "    # initiaize the parameters\n",
    "    self.n_samples = self.x.shape()\n",
    "    self.n_features = self.x.shape()\n",
    "    self.weights = np.zeros(self.n_features)\n",
    "    self.bias = 0\n",
    "\n",
    "    # Gradient Descent\n",
    "    for _ in range(self.n_iters):\n",
    "        A = self.feed_forward(x)\n",
    "        dz = A - y\n",
    "\n",
    "        # Compute the gradients\n",
    "        dw = (1/n_samples) * np.dot(x.T, dz)\n",
    "        db = (q/n_samples) * np.sum(A - y)\n",
    "        \n",
    "        #update parameters\n",
    "        self.weights = self.weights - self.learning_rate * dw\n",
    "        self.bias = self.bias - self.learning_rate * db"
   ]
  },
  {
   "cell_type": "code",
   "execution_count": 31,
   "metadata": {},
   "outputs": [],
   "source": [
    "def predict(self, x):\n",
    "    threshold = 0.5\n",
    "    y_hat = np.dot(x, self.weights) + self.bias\n",
    "    y_predicted = self._sigmoid(y_hat)\n",
    "    y_predicted_class = [1 if i > threshold else 0 for i in y_predicted]\n",
    "    return np.array(y_predicted_class)"
   ]
  },
  {
   "cell_type": "code",
   "execution_count": 45,
   "metadata": {},
   "outputs": [],
   "source": [
    "from sklearn.model_selection import train_test_split\n",
    "from sklearn.linear_model import LogisticRegression\n",
    "from sklearn.metrics import confusion_matrix\n",
    "from sklearn import datasets\n",
    "\n",
    "dataset = datasets.load_breast_cancer()\n",
    "x, y = dataset.data, dataset.target\n",
    "\n",
    "x_train, x_test, y_train, y_test = train_test_split(x, y, test_size = 0.2, random_state = 1234)\n",
    "\n",
    "logistic_regression = LogisticRegression(solver=\"liblinear\", max_iter=1000)\n",
    "logistic_regression.fit(x_train, y_train)\n",
    "predictions = logistic_regression.predict(x_test)\n",
    "conf_matrix = confusion_matrix(np.asarray(y_test), np.asarray(predictions))"
   ]
  },
  {
   "cell_type": "code",
   "execution_count": 50,
   "metadata": {},
   "outputs": [
    {
     "data": {
      "image/png": "[encoded data removed]",
      "text/plain": [
       "<Figure size 800x600 with 1 Axes>"
      ]
     },
     "metadata": {},
     "output_type": "display_data"
    }
   ],
   "source": [
    "import seaborn\n",
    "\n",
    "plt.figure(figsize=(8,6))\n",
    "seaborn.heatmap(conf_matrix, annot=True, cmap=\"Blues\", cbar = False, fmt=\"d\",\n",
    "                xticklabels=[\"Predicted 0\", \"Predicted 1\"],\n",
    "                yticklabels=[\"Actual 0\", \"Actual 1\"])\n",
    "plt.xlabel(\"\")\n",
    "plt.ylabel(\"\")\n",
    "plt.title(\"confusion_matrix\")\n",
    "plt.show()"
   ]
  },
  {
   "cell_type": "code",
   "execution_count": 51,
   "metadata": {},
   "outputs": [
    {
     "data": {
      "text/plain": [
       "0.9473684210526315"
      ]
     },
     "execution_count": 51,
     "metadata": {},
     "output_type": "execute_result"
    }
   ],
   "source": [
    "from sklearn.metrics import accuracy_score\n",
    "\n",
    "accuracy_score(y_test, predictions)"
   ]
  }
 ],
 "metadata": {
  "kernelspec": {
   "display_name": "Python 3",
   "language": "python",
   "name": "python3"
  },
  "language_info": {
   "codemirror_mode": {
    "name": "ipython",
    "version": 3
   },
   "file_extension": ".py",
   "mimetype": "text/x-python",
   "name": "python",
   "nbconvert_exporter": "python",
   "pygments_lexer": "ipython3",
   "version": "3.11.4"
  }
 },
 "nbformat": 4,
 "nbformat_minor": 2
}
